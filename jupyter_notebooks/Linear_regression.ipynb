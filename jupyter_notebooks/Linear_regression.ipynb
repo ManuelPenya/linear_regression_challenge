{
 "cells": [
  {
   "cell_type": "markdown",
   "id": "a1d70333-e0b0-42e8-a940-60e94eb6f702",
   "metadata": {},
   "source": [
    "# Machine Learning - Linear Regression"
   ]
  },
  {
   "cell_type": "markdown",
   "id": "b8910b54-11a4-463c-b543-585a0921b3cc",
   "metadata": {},
   "source": [
    "# Summary\n",
    "Machine Learning challenge in which, given a dataset, a linear regression predictive model is performed. \n",
    "\n",
    "We will make use of `statsmodles` library for model generation due to its great summary information"
   ]
  },
  {
   "cell_type": "code",
   "execution_count": 1,
   "id": "9acb74f1-5247-4e9f-8b86-adea3ef1f73d",
   "metadata": {},
   "outputs": [],
   "source": [
    "# Data treatment\n",
    "# ==============================================================================\n",
    "import pandas as pd\n",
    "import numpy as np\n",
    "\n",
    "# Graphs\n",
    "# ==============================================================================\n",
    "import matplotlib.pyplot as plt\n",
    "import seaborn as sns\n",
    "\n",
    "# Graphs config \n",
    "# ==============================================================================\n",
    "plt.rcParams['image.cmap'] = \"bwr\"\n",
    "plt.rcParams['savefig.bbox'] = \"tight\"\n",
    "plt.style.use('ggplot')\n",
    "\n",
    "# Preproccess and modelling\n",
    "# ==============================================================================\n",
    "from scipy.stats import pearsonr\n",
    "from sklearn.metrics import mean_squared_error\n",
    "import statsmodels.api as sm\n",
    "from statsmodels.stats.anova import anova_lm"
   ]
  },
  {
   "cell_type": "code",
   "execution_count": 2,
   "id": "6267abf6-bcca-4b10-83b8-edd56d7abdc9",
   "metadata": {},
   "outputs": [
    {
     "name": "stdout",
     "output_type": "stream",
     "text": [
      "/home/manuel/NUWE/linear_regression\n"
     ]
    }
   ],
   "source": [
    "# moving to root folder \n",
    "%cd .."
   ]
  },
  {
   "cell_type": "code",
   "execution_count": 3,
   "id": "330d4750-bcac-4c4c-9aed-34c71fcc1773",
   "metadata": {},
   "outputs": [
    {
     "data": {
      "text/html": [
       "<div>\n",
       "<style scoped>\n",
       "    .dataframe tbody tr th:only-of-type {\n",
       "        vertical-align: middle;\n",
       "    }\n",
       "\n",
       "    .dataframe tbody tr th {\n",
       "        vertical-align: top;\n",
       "    }\n",
       "\n",
       "    .dataframe thead th {\n",
       "        text-align: right;\n",
       "    }\n",
       "</style>\n",
       "<table border=\"1\" class=\"dataframe\">\n",
       "  <thead>\n",
       "    <tr style=\"text-align: right;\">\n",
       "      <th></th>\n",
       "      <th>feature1</th>\n",
       "      <th>feature2</th>\n",
       "      <th>feature3</th>\n",
       "      <th>feature4</th>\n",
       "      <th>target</th>\n",
       "    </tr>\n",
       "  </thead>\n",
       "  <tbody>\n",
       "    <tr>\n",
       "      <th>0</th>\n",
       "      <td>0.885598</td>\n",
       "      <td>-0.058136</td>\n",
       "      <td>-0.502394</td>\n",
       "      <td>-0.072880</td>\n",
       "      <td>4.999557</td>\n",
       "    </tr>\n",
       "    <tr>\n",
       "      <th>1</th>\n",
       "      <td>1.391696</td>\n",
       "      <td>0.350938</td>\n",
       "      <td>0.311445</td>\n",
       "      <td>-0.780685</td>\n",
       "      <td>56.613234</td>\n",
       "    </tr>\n",
       "    <tr>\n",
       "      <th>2</th>\n",
       "      <td>-0.599735</td>\n",
       "      <td>-0.072272</td>\n",
       "      <td>1.541158</td>\n",
       "      <td>-0.384914</td>\n",
       "      <td>43.374539</td>\n",
       "    </tr>\n",
       "    <tr>\n",
       "      <th>3</th>\n",
       "      <td>1.108150</td>\n",
       "      <td>1.924439</td>\n",
       "      <td>-0.068485</td>\n",
       "      <td>1.985521</td>\n",
       "      <td>50.226308</td>\n",
       "    </tr>\n",
       "    <tr>\n",
       "      <th>4</th>\n",
       "      <td>-0.724598</td>\n",
       "      <td>-1.485027</td>\n",
       "      <td>-1.755203</td>\n",
       "      <td>-0.254649</td>\n",
       "      <td>-107.187888</td>\n",
       "    </tr>\n",
       "    <tr>\n",
       "      <th>5</th>\n",
       "      <td>0.136546</td>\n",
       "      <td>-0.127270</td>\n",
       "      <td>-0.881028</td>\n",
       "      <td>-0.506504</td>\n",
       "      <td>-32.604402</td>\n",
       "    </tr>\n",
       "    <tr>\n",
       "      <th>6</th>\n",
       "      <td>0.295902</td>\n",
       "      <td>0.223827</td>\n",
       "      <td>0.140801</td>\n",
       "      <td>-0.845434</td>\n",
       "      <td>16.629503</td>\n",
       "    </tr>\n",
       "    <tr>\n",
       "      <th>7</th>\n",
       "      <td>-1.233292</td>\n",
       "      <td>-0.706870</td>\n",
       "      <td>0.473944</td>\n",
       "      <td>0.515332</td>\n",
       "      <td>-24.496265</td>\n",
       "    </tr>\n",
       "    <tr>\n",
       "      <th>8</th>\n",
       "      <td>2.292826</td>\n",
       "      <td>0.602614</td>\n",
       "      <td>0.222382</td>\n",
       "      <td>-0.317553</td>\n",
       "      <td>81.922767</td>\n",
       "    </tr>\n",
       "    <tr>\n",
       "      <th>9</th>\n",
       "      <td>-0.157721</td>\n",
       "      <td>-1.759156</td>\n",
       "      <td>-1.743006</td>\n",
       "      <td>0.529000</td>\n",
       "      <td>-93.217654</td>\n",
       "    </tr>\n",
       "  </tbody>\n",
       "</table>\n",
       "</div>"
      ],
      "text/plain": [
       "   feature1  feature2  feature3  feature4      target\n",
       "0  0.885598 -0.058136 -0.502394 -0.072880    4.999557\n",
       "1  1.391696  0.350938  0.311445 -0.780685   56.613234\n",
       "2 -0.599735 -0.072272  1.541158 -0.384914   43.374539\n",
       "3  1.108150  1.924439 -0.068485  1.985521   50.226308\n",
       "4 -0.724598 -1.485027 -1.755203 -0.254649 -107.187888\n",
       "5  0.136546 -0.127270 -0.881028 -0.506504  -32.604402\n",
       "6  0.295902  0.223827  0.140801 -0.845434   16.629503\n",
       "7 -1.233292 -0.706870  0.473944  0.515332  -24.496265\n",
       "8  2.292826  0.602614  0.222382 -0.317553   81.922767\n",
       "9 -0.157721 -1.759156 -1.743006  0.529000  -93.217654"
      ]
     },
     "execution_count": 3,
     "metadata": {},
     "output_type": "execute_result"
    }
   ],
   "source": [
    "# Data to be used to train and to test/predict\n",
    "# ==============================================================================\n",
    "import os\n",
    "\n",
    "folder = 'data'\n",
    "file_train = 'j0001_train.csv'\n",
    "file_test = 'j0001_X_test.csv'\n",
    "path_train = os.path.join(folder, file_train)\n",
    "path_test = os.path.join(folder, file_test)\n",
    "\n",
    "data_train = pd.read_csv(path_train)\n",
    "data_test = pd.read_csv(path_test)\n",
    "\n",
    "data_train.head(10)"
   ]
  },
  {
   "cell_type": "code",
   "execution_count": 4,
   "id": "4bbe9005-2332-4388-a412-f5fbbea3a4a7",
   "metadata": {},
   "outputs": [
    {
     "data": {
      "image/png": "[encoded data removed]",
      "text/plain": [
       "<Figure size 720x720 with 1 Axes>"
      ]
     },
     "metadata": {},
     "output_type": "display_data"
    }
   ],
   "source": [
    "# Column correlation\n",
    "# ==============================================================================\n",
    "corr_matrix = data_train.select_dtypes(include=['float64', 'int']).corr(method='pearson')\n",
    "\n",
    "# Correlations Heatmap\n",
    "# ==============================================================================\n",
    "fig, ax = plt.subplots(nrows=1, ncols=1, figsize=(10, 10))\n",
    "\n",
    "sns.heatmap(\n",
    "    corr_matrix,\n",
    "    annot     = True,\n",
    "    cbar      = False,\n",
    "    annot_kws = {\"size\": 8},\n",
    "    vmin      = -1,\n",
    "    vmax      = 1,\n",
    "    center    = 0,\n",
    "    cmap      = sns.diverging_palette(20, 220, n=200),\n",
    "    square    = True,\n",
    "    ax        = ax\n",
    ")\n",
    "\n",
    "ax.set_xticklabels(\n",
    "    ax.get_xticklabels(),\n",
    "    rotation = 45,\n",
    "    horizontalalignment = 'right',\n",
    ")\n",
    "\n",
    "ax.tick_params(labelsize = 10)"
   ]
  },
  {
   "cell_type": "markdown",
   "id": "518df0dc-0416-4b1d-86e1-e4933bae4874",
   "metadata": {},
   "source": [
    "According to this corr matrix, we can observe `feature4` has little correlation with target if any (and also with the rest) "
   ]
  },
  {
   "cell_type": "code",
   "execution_count": 5,
   "id": "79f10928-0900-4c6b-9f5a-d95c8e8aed8e",
   "metadata": {},
   "outputs": [
    {
     "name": "stdout",
     "output_type": "stream",
     "text": [
      "                            OLS Regression Results                            \n",
      "==============================================================================\n",
      "Dep. Variable:                 target   R-squared:                       1.000\n",
      "Model:                            OLS   Adj. R-squared:                  1.000\n",
      "Method:                 Least Squares   F-statistic:                 3.021e+31\n",
      "Date:                Mon, 11 Oct 2021   Prob (F-statistic):               0.00\n",
      "Time:                        18:11:21   Log-Likelihood:                 58342.\n",
      "No. Observations:                2100   AIC:                        -1.167e+05\n",
      "Df Residuals:                    2095   BIC:                        -1.166e+05\n",
      "Df Model:                           4                                         \n",
      "Covariance Type:            nonrobust                                         \n",
      "==============================================================================\n",
      "                 coef    std err          t      P>|t|      [0.025      0.975]\n",
      "------------------------------------------------------------------------------\n",
      "const      -9.248e-14   4.55e-15    -20.326      0.000   -1.01e-13   -8.36e-14\n",
      "feature1      29.0140   4.61e-15   6.29e+15      0.000      29.014      29.014\n",
      "feature2      10.8135   4.58e-15   2.36e+15      0.000      10.813      10.813\n",
      "feature3      39.9419   4.53e-15   8.81e+15      0.000      39.942      39.942\n",
      "feature4   -6.689e-14   4.51e-15    -14.836      0.000   -7.57e-14    -5.8e-14\n",
      "==============================================================================\n",
      "Omnibus:                        3.763   Durbin-Watson:                   1.634\n",
      "Prob(Omnibus):                  0.152   Jarque-Bera (JB):                3.743\n",
      "Skew:                          -0.077   Prob(JB):                        0.154\n",
      "Kurtosis:                       3.138   Cond. No.                         1.05\n",
      "==============================================================================\n",
      "\n",
      "Notes:\n",
      "[1] Standard Errors assume that the covariance matrix of the errors is correctly specified.\n"
     ]
    }
   ],
   "source": [
    "# Model generation\n",
    "# ==============================================================================\n",
    "X_train = data_train[['feature1', 'feature2', 'feature3', 'feature4']]\n",
    "y_train = data_train['target']\n",
    "# A 1s column has to be added to the predictors matrix for intercept\n",
    "X_train = sm.add_constant(X_train, prepend=True)\n",
    "model = sm.OLS(endog=y_train, exog=X_train,)\n",
    "model = model.fit()\n",
    "print(model.summary())\n"
   ]
  },
  {
   "cell_type": "markdown",
   "id": "76c58492-1e8d-4af8-befa-8696899127cf",
   "metadata": {},
   "source": [
    "According to the value of the obtained coeficient together with the nearly null correlation of predictor `feature4`, this variable is not contributing significantly to model. A new model is trained without `feature4`\n"
   ]
  },
  {
   "cell_type": "code",
   "execution_count": 6,
   "id": "30623ff1-6bd2-4121-b240-97983a22aa84",
   "metadata": {},
   "outputs": [
    {
     "name": "stdout",
     "output_type": "stream",
     "text": [
      "                            OLS Regression Results                            \n",
      "==============================================================================\n",
      "Dep. Variable:                 target   R-squared:                       1.000\n",
      "Model:                            OLS   Adj. R-squared:                  1.000\n",
      "Method:                 Least Squares   F-statistic:                 1.831e+33\n",
      "Date:                Mon, 11 Oct 2021   Prob (F-statistic):               0.00\n",
      "Time:                        18:11:21   Log-Likelihood:                 62349.\n",
      "No. Observations:                2100   AIC:                        -1.247e+05\n",
      "Df Residuals:                    2096   BIC:                        -1.247e+05\n",
      "Df Model:                           3                                         \n",
      "Covariance Type:            nonrobust                                         \n",
      "==============================================================================\n",
      "                 coef    std err          t      P>|t|      [0.025      0.975]\n",
      "------------------------------------------------------------------------------\n",
      "const      -8.785e-15   6.75e-16    -13.019      0.000   -1.01e-14   -7.46e-15\n",
      "feature1      29.0140   6.84e-16   4.24e+16      0.000      29.014      29.014\n",
      "feature2      10.8135   6.79e-16   1.59e+16      0.000      10.813      10.813\n",
      "feature3      39.9419   6.72e-16   5.94e+16      0.000      39.942      39.942\n",
      "==============================================================================\n",
      "Omnibus:                        2.110   Durbin-Watson:                   1.906\n",
      "Prob(Omnibus):                  0.348   Jarque-Bera (JB):                2.165\n",
      "Skew:                           0.001   Prob(JB):                        0.339\n",
      "Kurtosis:                       3.157   Cond. No.                         1.05\n",
      "==============================================================================\n",
      "\n",
      "Notes:\n",
      "[1] Standard Errors assume that the covariance matrix of the errors is correctly specified.\n"
     ]
    }
   ],
   "source": [
    "X_train = X_train.drop(columns = 'feature4')\n",
    "model_wo_feature4  = sm.OLS(endog=y_train, exog=X_train,)\n",
    "model_wo_feature4  = model_wo_feature4.fit()\n",
    "print(model_wo_feature4.summary())"
   ]
  },
  {
   "cell_type": "markdown",
   "id": "c3ea60c8-3f2a-4336-8b7b-74ff52186c51",
   "metadata": {},
   "source": [
    "for completeness we compare both models, with and without `feature4`, using an ANOVA test to ensure the ellimination of this feature does not lead to a worse prediction model"
   ]
  },
  {
   "cell_type": "code",
   "execution_count": 7,
   "id": "981e16ea-1a4d-4e17-8586-af822ecfe470",
   "metadata": {},
   "outputs": [
    {
     "data": {
      "text/html": [
       "<div>\n",
       "<style scoped>\n",
       "    .dataframe tbody tr th:only-of-type {\n",
       "        vertical-align: middle;\n",
       "    }\n",
       "\n",
       "    .dataframe tbody tr th {\n",
       "        vertical-align: top;\n",
       "    }\n",
       "\n",
       "    .dataframe thead th {\n",
       "        text-align: right;\n",
       "    }\n",
       "</style>\n",
       "<table border=\"1\" class=\"dataframe\">\n",
       "  <thead>\n",
       "    <tr style=\"text-align: right;\">\n",
       "      <th></th>\n",
       "      <th>df_resid</th>\n",
       "      <th>ssr</th>\n",
       "      <th>df_diff</th>\n",
       "      <th>ss_diff</th>\n",
       "      <th>F</th>\n",
       "      <th>Pr(&gt;F)</th>\n",
       "    </tr>\n",
       "  </thead>\n",
       "  <tbody>\n",
       "    <tr>\n",
       "      <th>0</th>\n",
       "      <td>2096.0</td>\n",
       "      <td>2.002201e-24</td>\n",
       "      <td>0.0</td>\n",
       "      <td>NaN</td>\n",
       "      <td>NaN</td>\n",
       "      <td>NaN</td>\n",
       "    </tr>\n",
       "    <tr>\n",
       "      <th>1</th>\n",
       "      <td>2095.0</td>\n",
       "      <td>9.096618e-23</td>\n",
       "      <td>1.0</td>\n",
       "      <td>-8.896398e-23</td>\n",
       "      <td>-2048.888223</td>\n",
       "      <td>1.0</td>\n",
       "    </tr>\n",
       "  </tbody>\n",
       "</table>\n",
       "</div>"
      ],
      "text/plain": [
       "   df_resid           ssr  df_diff       ss_diff            F  Pr(>F)\n",
       "0    2096.0  2.002201e-24      0.0           NaN          NaN     NaN\n",
       "1    2095.0  9.096618e-23      1.0 -8.896398e-23 -2048.888223     1.0"
      ]
     },
     "execution_count": 7,
     "metadata": {},
     "output_type": "execute_result"
    }
   ],
   "source": [
    "anova_lm(model_wo_feature4, model)"
   ]
  },
  {
   "cell_type": "markdown",
   "id": "b115813d-05e5-4c69-8764-90db1f448406",
   "metadata": {},
   "source": [
    "*p-value* es identically 1, so we cannot say the model with `feature4` to be able to make better predictions, hence for now on we choose the model without `feature4`"
   ]
  },
  {
   "cell_type": "code",
   "execution_count": 8,
   "id": "645fc959-6197-47c3-8aff-4bf82a5088a9",
   "metadata": {},
   "outputs": [
    {
     "name": "stdout",
     "output_type": "stream",
     "text": [
      "\n",
      "Test error (rmse) is: 3.0877650157341176e-14\n"
     ]
    }
   ],
   "source": [
    "# Test error of model \n",
    "# ==============================================================================\n",
    "fitted_y_train = model_wo_feature4.predict(exog = X_train)\n",
    "rmse = mean_squared_error(\n",
    "        y_true  = y_train,\n",
    "        y_pred  = fitted_y_train,\n",
    "        squared = False\n",
    "       )\n",
    "print(\"\")\n",
    "print(f\"Test error (rmse) is: {rmse}\")"
   ]
  },
  {
   "cell_type": "code",
   "execution_count": 9,
   "id": "95aea6c2-6af3-4d1e-84d1-8700ff418407",
   "metadata": {},
   "outputs": [
    {
     "data": {
      "text/plain": [
       "0      49.768770\n",
       "1     -26.097642\n",
       "2      11.892201\n",
       "3      32.167214\n",
       "4     -35.973501\n",
       "         ...    \n",
       "895     9.006492\n",
       "896   -52.778806\n",
       "897     0.078914\n",
       "898    41.491268\n",
       "899    24.625784\n",
       "Length: 900, dtype: float64"
      ]
     },
     "execution_count": 9,
     "metadata": {},
     "output_type": "execute_result"
    }
   ],
   "source": [
    "# Predictions\n",
    "# ==============================================================================\n",
    "X_test = data_test[['feature1', 'feature2', 'feature3']]\n",
    "X_test = sm.add_constant(X_test, prepend=True)\n",
    "predictions = model_wo_feature4.predict(exog = X_test)\n",
    "predictions"
   ]
  },
  {
   "cell_type": "code",
   "execution_count": 10,
   "id": "69870d63-f91f-409d-9eb1-fea86cc2f712",
   "metadata": {},
   "outputs": [],
   "source": [
    "# Saving predictions\n",
    "# ==============================================================================\n",
    "results_folder = 'results'\n",
    "results_file = 'results.csv'\n",
    "predictions.to_csv(os.path.join(results_folder, results_file), header=False, index=False)"
   ]
  }
 ],
 "metadata": {
  "kernelspec": {
   "display_name": "Python 3 (ipykernel)",
   "language": "python",
   "name": "python3"
  },
  "language_info": {
   "codemirror_mode": {
    "name": "ipython",
    "version": 3
   },
   "file_extension": ".py",
   "mimetype": "text/x-python",
   "name": "python",
   "nbconvert_exporter": "python",
   "pygments_lexer": "ipython3",
   "version": "3.8.10"
  }
 },
 "nbformat": 4,
 "nbformat_minor": 5
}
